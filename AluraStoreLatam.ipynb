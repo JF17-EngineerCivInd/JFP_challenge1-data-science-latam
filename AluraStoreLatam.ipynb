{
  "nbformat": 4,
  "nbformat_minor": 0,
  "metadata": {
    "colab": {
      "provenance": [],
      "include_colab_link": true
    },
    "kernelspec": {
      "name": "python3",
      "display_name": "Python 3"
    },
    "language_info": {
      "name": "python"
    }
  },
  "cells": [
    {
      "cell_type": "markdown",
      "metadata": {
        "id": "view-in-github",
        "colab_type": "text"
      },
      "source": [
        "<a href=\"https://colab.research.google.com/github/JF17-EngineerCivInd/JFP_challenge1-data-science-latam/blob/main/AluraStoreLatam.ipynb\" target=\"_parent\"><img src=\"https://colab.research.google.com/assets/colab-badge.svg\" alt=\"Open In Colab\"/></a>"
      ]
    },
    {
      "cell_type": "markdown",
      "source": [
        "## **Alura Store LATAM — Informe de Análisis** ##\n",
        "**Objetivo:** Identificar la tienda menos eficiente para recomendar su venta.  \n",
        "**Autor:** Jimmy Nicolás Flores Pinto  \n",
        "**Fecha:** 18-08-2025\n",
        "\n",
        "---\n"
      ],
      "metadata": {
        "id": "FL15HPWhOotD"
      }
    },
    {
      "cell_type": "markdown",
      "source": [
        "## **Índice** ##\n",
        "1. [Metodología](#metodologia)\n",
        "2. [Datos y preparación](#datos)\n",
        "3. [Análisis exploratorio](#eda)\n",
        "   - 3.1. Facturación por tienda\n",
        "   - 3.2. Ventas por categoría\n",
        "   - 3.3. Calificación promedio por tienda\n",
        "   - 3.4. Productos más y menos vendidos\n",
        "   - 3.5. Costo de envío promedio por tienda\n",
        "4. [KPIs comparativos y recomendación](#kpis)\n",
        "5. [Conclusiones](#conclusiones)\n"
      ],
      "metadata": {
        "id": "GQPGHbrGPse3"
      }
    },
    {
      "cell_type": "markdown",
      "source": [
        "## **1. Metodología <a name=\"metodologia\"></a>**\n",
        "- Unificación de las 4 tiendas en un único DataFrame (`df`) con etiqueta `Tienda`.\n",
        "- Normalización de tipos (fechas, numéricos) y limpieza de nombres de columnas.\n",
        "- Métricas por tienda: **Facturación**, **Unidades vendidas**, **Calificación promedio**, **Costo de envío promedio**.\n",
        "- Visualizaciones interactivas con **Plotly** y tablas de apoyo con **Pandas**.\n",
        "- Cálculo de un **score compuesto** (Min–Max) con ponderación:\n",
        "  - Facturación (40%), Calificación (30%), Unidades (20%), Envío (10%).\n"
      ],
      "metadata": {
        "id": "eNcAsQ3FP_N8"
      }
    },
    {
      "cell_type": "markdown",
      "source": [
        "## **2. Datos y preparación <a name=\"datos\"></a>**\n",
        "- Fuente: CSVs del repositorio del challenge (Trello/Alura).\n",
        "- Estructura consolidada en `df` con columna `Tienda` (1 a 4).\n",
        "- Moneda para *Precio* y *Costo de envío*: **COP (Pesos Colombianos)**.\n"
      ],
      "metadata": {
        "id": "D4zde07-QDqI"
      }
    },
    {
      "cell_type": "markdown",
      "source": [
        "## **3. Análisis exploratorio <a name=\"eda\"></a>**\n",
        "A continuación se presentan los análisis solicitados.\n"
      ],
      "metadata": {
        "id": "DjiKnGhtQ2oS"
      }
    },
    {
      "cell_type": "markdown",
      "source": [
        "### Importación de datos\n",
        "\n"
      ],
      "metadata": {
        "id": "RhEdWd9YUR6H"
      }
    },
    {
      "cell_type": "code",
      "execution_count": 4,
      "metadata": {
        "colab": {
          "base_uri": "https://localhost:8080/",
          "height": 168
        },
        "id": "T3EvaeQ_INIL",
        "outputId": "a23ca483-d56c-4d43-bf56-750c7d3d4f5f"
      },
      "outputs": [
        {
          "output_type": "error",
          "ename": "NameError",
          "evalue": "name 'tienda' is not defined",
          "traceback": [
            "\u001b[0;31m---------------------------------------------------------------------------\u001b[0m",
            "\u001b[0;31mNameError\u001b[0m                                 Traceback (most recent call last)",
            "\u001b[0;32m/tmp/ipython-input-2879722081.py\u001b[0m in \u001b[0;36m<cell line: 0>\u001b[0;34m()\u001b[0m\n\u001b[1;32m     11\u001b[0m \u001b[0mtienda4\u001b[0m \u001b[0;34m=\u001b[0m \u001b[0mpd\u001b[0m\u001b[0;34m.\u001b[0m\u001b[0mread_csv\u001b[0m\u001b[0;34m(\u001b[0m\u001b[0murl4\u001b[0m\u001b[0;34m)\u001b[0m\u001b[0;34m\u001b[0m\u001b[0;34m\u001b[0m\u001b[0m\n\u001b[1;32m     12\u001b[0m \u001b[0;34m\u001b[0m\u001b[0m\n\u001b[0;32m---> 13\u001b[0;31m \u001b[0mtienda\u001b[0m\u001b[0;34m.\u001b[0m\u001b[0mhead\u001b[0m\u001b[0;34m(\u001b[0m\u001b[0;34m)\u001b[0m\u001b[0;34m\u001b[0m\u001b[0;34m\u001b[0m\u001b[0m\n\u001b[0m",
            "\u001b[0;31mNameError\u001b[0m: name 'tienda' is not defined"
          ]
        }
      ],
      "source": [
        "import pandas as pd\n",
        "\n",
        "url = \"https://raw.githubusercontent.com/alura-es-cursos/challenge1-data-science-latam/refs/heads/main/base-de-datos-challenge1-latam/tienda_1%20.csv\"\n",
        "url2 = \"https://raw.githubusercontent.com/alura-es-cursos/challenge1-data-science-latam/refs/heads/main/base-de-datos-challenge1-latam/tienda_2.csv\"\n",
        "url3 = \"https://raw.githubusercontent.com/alura-es-cursos/challenge1-data-science-latam/refs/heads/main/base-de-datos-challenge1-latam/tienda_3.csv\"\n",
        "url4 = \"https://raw.githubusercontent.com/alura-es-cursos/challenge1-data-science-latam/refs/heads/main/base-de-datos-challenge1-latam/tienda_4.csv\"\n",
        "\n",
        "tienda1 = pd.read_csv(url)\n",
        "tienda2 = pd.read_csv(url2)\n",
        "tienda3 = pd.read_csv(url3)\n",
        "tienda4 = pd.read_csv(url4)\n",
        "\n",
        "tienda.head()"
      ]
    },
    {
      "cell_type": "code",
      "source": [
        "# === PASO 1: Preparación (unir tiendas y tipificar datos) ===\n",
        "import pandas as pd\n",
        "\n",
        "# 1) Detecta cómo se llaman tus dataframes\n",
        "opciones = [\n",
        "    ('tienda1','tienda2','tienda3','tienda4'),\n",
        "    ('tienda_1','tienda_2','tienda_3','tienda_4'),\n",
        "]\n",
        "encontrado = False\n",
        "for a,b,c,d in opciones:\n",
        "    if all(n in globals() for n in (a,b,c,d)):\n",
        "        tienda1, tienda2, tienda3, tienda4 = [globals()[n].copy() for n in (a,b,c,d)]\n",
        "        encontrado = True\n",
        "        break\n",
        "if not encontrado:\n",
        "    raise NameError(\"No encuentro los DataFrames de tiendas. Ejecuta antes la celda de importación.\")\n",
        "\n",
        "# 2) Etiqueta cada tienda\n",
        "for i, tdf in enumerate([tienda1, tienda2, tienda3, tienda4], start=1):\n",
        "    tdf['Tienda'] = f'Tienda {i}'\n",
        "\n",
        "# 3) Une todo\n",
        "df = pd.concat([tienda1, tienda2, tienda3, tienda4], ignore_index=True)\n",
        "df.columns = [c.strip() for c in df.columns]  # limpia espacios en nombres\n",
        "\n",
        "# 4) Fecha de compra -> datetime (busca la columna por nombre aproximado)\n",
        "fecha_col = next((c for c in df.columns if c.lower().startswith('fecha') and 'compra' in c.lower()), None)\n",
        "if fecha_col:\n",
        "    df[fecha_col] = pd.to_datetime(df[fecha_col], dayfirst=True, errors='coerce')\n",
        "\n",
        "# 5) Convierte a numérico columnas clave si existen\n",
        "candidatas_num = ['precio','costo de envío','calificación','cantidad de cuotas','emi','late']\n",
        "for c in df.columns:\n",
        "    if any(pal in c.lower() for pal in candidatas_num):\n",
        "        df[c] = pd.to_numeric(df[c], errors='coerce')\n",
        "\n",
        "# 6) Vista rápida\n",
        "print(\"Filas y columnas:\", df.shape)\n",
        "display(df.head())\n",
        "display(df.dtypes)\n"
      ],
      "metadata": {
        "id": "m5lJDHcz0lCn"
      },
      "execution_count": null,
      "outputs": []
    },
    {
      "cell_type": "markdown",
      "source": [
        "## **Template Base** ##"
      ],
      "metadata": {
        "id": "AGkPAUcvB1mz"
      }
    },
    {
      "cell_type": "code",
      "source": [
        "# === TEMPLATE UTILIDADES + GRÁFICOS (Plotly) ===\n",
        "# Deja este bloque en una sola celda al inicio del notebook.\n",
        "import pandas as pd\n",
        "import plotly.express as px\n",
        "\n",
        "# ⚙️ Parámetros globales (puedes cambiarlos)\n",
        "MONEDA = \"COP (Pesos Colombianos)\"  # etiqueta por defecto para montos\n",
        "ANCHO, ALTO = 680, 420              # tamaño por defecto de gráficos\n",
        "BWIDTH = 0.4                        # grosor por defecto de las barras\n",
        "\n",
        "# -------------------- AGRUPAMIENTOS RÁPIDOS --------------------\n",
        "def group_sum(df, by, value_col):\n",
        "    \"\"\"Suma value_col por claves 'by' (string o lista). Útil para facturación/costos.\"\"\"\n",
        "    g = df.groupby(by, dropna=False)[value_col].sum().reset_index()\n",
        "    return g.sort_values(value_col, ascending=False)\n",
        "\n",
        "def group_mean(df, by, value_col):\n",
        "    \"\"\"Promedio de value_col por claves 'by'. Útil para calificaciones, tiempos, etc.\"\"\"\n",
        "    g = df.groupby(by, dropna=False)[value_col].mean().reset_index()\n",
        "    return g.sort_values(value_col, ascending=False)\n",
        "\n",
        "def group_count(df, by, count_col='Producto'):\n",
        "    \"\"\"Conteo por claves 'by'. Útil para # de ventas, # de productos, etc.\"\"\"\n",
        "    g = df.groupby(by, dropna=False)[count_col].count().reset_index(name='Conteo')\n",
        "    return g.sort_values('Conteo', ascending=False)\n",
        "\n",
        "# -------------------- ESCALA Y FORMATOS (MONETARIO) --------------------\n",
        "def _scale_and_formats(series, en_millones=True, etiqueta_moneda=MONEDA):\n",
        "    \"\"\"\n",
        "    Escala serie (millones o valor completo) y devuelve:\n",
        "    - serie escalada\n",
        "    - etiqueta Y\n",
        "    - formato de ticks\n",
        "    - plantilla de hover\n",
        "    \"\"\"\n",
        "    if en_millones:\n",
        "        s = series / 1_000_000\n",
        "        ylabel  = f\"Millones de {etiqueta_moneda}\"\n",
        "        tickfmt = ',.2f'\n",
        "        hover   = '<b>%{x}</b><br>Valor: %{y:,.2f} MM<extra></extra>'\n",
        "    else:\n",
        "        s = series\n",
        "        ylabel  = etiqueta_moneda\n",
        "        tickfmt = ',.0f'\n",
        "        hover   = '<b>%{x}</b><br>Valor: %{y:,.0f}<extra></extra>'\n",
        "    return s, ylabel, tickfmt, hover\n",
        "\n",
        "# -------------------- GRÁFICOS: BARRAS (SIMPLE) --------------------\n",
        "def plot_bar(df_plot, x, y, titulo, ylabel=None, color=None,\n",
        "             en_millones=False, ancho=ANCHO, alto=ALTO, barwidth=BWIDTH, centrar_titulo=True):\n",
        "    \"\"\"\n",
        "    Barra simple (una métrica por categoría).\n",
        "    - en_millones=True solo si 'y' es monetario (facturación, costo, etc.)\n",
        "    - color: columna para colorear (ej: 'Tienda') o None\n",
        "    \"\"\"\n",
        "    data_y = df_plot[y]\n",
        "    if ylabel is None and en_millones:  # monetario → formateo especial\n",
        "        data_y, ylabel, tickfmt, hover = _scale_and_formats(data_y, True)\n",
        "        df_plot = df_plot.copy(); df_plot[y] = data_y\n",
        "    elif ylabel is None:\n",
        "        ylabel, tickfmt = y, ',.0f'\n",
        "        hover = '<b>%{x}</b><br>Valor: %{y:,.0f}<extra></extra>'\n",
        "\n",
        "    fig = px.bar(df_plot, x=x, y=y, color=color, title=titulo, labels={x:'', y: ylabel})\n",
        "    fig.update_traces(hovertemplate=hover, width=barwidth)\n",
        "    fig.update_layout(\n",
        "        width=ancho, height=alto,\n",
        "        yaxis=dict(tickformat=tickfmt, showline=True, linewidth=1),\n",
        "        xaxis=dict(showline=True, linewidth=1),\n",
        "        margin=dict(l=40, r=20, t=50, b=40),\n",
        "        title={'x':0.5} if centrar_titulo else None\n",
        "    )\n",
        "    fig.show()\n",
        "\n",
        "# -------------------- GRÁFICOS: BARRAS (AGRUPADAS / APILADAS) --------------------\n",
        "def plot_bar_multi(df_plot, x, y, color, titulo, modo='group',\n",
        "                   ylabel=None, en_millones=False, ancho=ANCHO, alto=ALTO, barwidth=BWIDTH):\n",
        "    \"\"\"\n",
        "    Barras con varias series (por ejemplo, categorías por tienda).\n",
        "    - modo='group' (agrupadas) o 'stack' (apiladas)\n",
        "    - en_millones=True solo si 'y' es monetario\n",
        "    \"\"\"\n",
        "    data_y = df_plot[y]\n",
        "    if ylabel is None and en_millones:\n",
        "        data_y, ylabel, tickfmt, hover = _scale_and_formats(data_y, True)\n",
        "        df_plot = df_plot.copy(); df_plot[y] = data_y\n",
        "    elif ylabel is None:\n",
        "        ylabel, tickfmt = y, ',.0f'\n",
        "        hover = '<b>%{x}</b><br>%{fullData.name}: %{y:,.0f}<extra></extra>'\n",
        "\n",
        "    fig = px.bar(df_plot, x=x, y=y, color=color, title=titulo, labels={x:'', y: ylabel})\n",
        "    fig.update_traces(hovertemplate=hover, width=barwidth)\n",
        "    fig.update_layout(\n",
        "        width=ancho, height=alto, barmode=('stack' if modo=='stack' else 'group'),\n",
        "        yaxis=dict(tickformat=tickfmt, showline=True, linewidth=1),\n",
        "        xaxis=dict(showline=True, linewidth=1),\n",
        "        margin=dict(l=40, r=20, t=50, b=40),\n",
        "        title={'x':0.5}\n",
        "    )\n",
        "    fig.show()\n",
        "\n",
        "# -------------------- GRÁFICO: ROSCA / PIE --------------------\n",
        "def plot_pie(df_plot, names, values, titulo):\n",
        "    \"\"\"Proporciones (ej: participación por categoría).\"\"\"\n",
        "    fig = px.pie(df_plot, names=names, values=values, title=titulo, hole=0.3)\n",
        "    fig.update_traces(textinfo='percent+label',\n",
        "                      hovertemplate='<b>%{label}</b><br>Valor: %{value}<extra></extra>')\n",
        "    fig.update_layout(title={'x':0.5}, width=ANCHO, height=ALTO)\n",
        "    fig.show()\n",
        "\n",
        "# -------------------- GRÁFICO: BOXPLOT --------------------\n",
        "def plot_box(df, x, y, titulo, color=None):\n",
        "    \"\"\"Distribución y dispersión (ej: calificación por tienda).\"\"\"\n",
        "    fig = px.box(df, x=x, y=y, color=color, title=titulo, points=\"all\")\n",
        "    fig.update_layout(width=ANCHO, height=ALTO, title={'x':0.5})\n",
        "    fig.show()\n",
        "\n",
        "# -------------------- GRÁFICO: LÍNEA --------------------\n",
        "def plot_line(df_plot, x, y, titulo, color=None, ylabel=None):\n",
        "    \"\"\"Tendencia en el tiempo (ej: ventas por fecha).\"\"\"\n",
        "    fig = px.line(df_plot, x=x, y=y, color=color, title=titulo, labels={x:'', y: (ylabel or y)})\n",
        "    fig.update_layout(width=ANCHO, height=ALTO, title={'x':0.5})\n",
        "    fig.show()\n",
        "\n",
        "\n",
        "# -------------------- Suite para grafico 3.2 --------------------\n",
        "def plot_cat_lines(g_cat, cat_col, top_n=None, width=820, height=480):\n",
        "    \"\"\"\n",
        "    Línea única con 4 tiendas (una línea por tienda) vs categorías en el eje X.\n",
        "    - g_cat: DataFrame con columnas ['Tienda', cat_col, 'Conteo'] (sale de group_count).\n",
        "    - top_n: si pones un número, limita a las categorías más vendidas (evita amontonamiento).\n",
        "    \"\"\"\n",
        "    # Orden global de categorías por volumen total\n",
        "    order = (g_cat.groupby(cat_col)['Conteo'].sum()\n",
        "             .sort_values(ascending=False).index.tolist())\n",
        "    if top_n:\n",
        "        order = order[:top_n]\n",
        "\n",
        "    gc = g_cat[g_cat[cat_col].isin(order)].copy()\n",
        "    gc[cat_col] = pd.Categorical(gc[cat_col], categories=order, ordered=True)\n",
        "\n",
        "    fig = px.line(\n",
        "        gc.sort_values(cat_col),\n",
        "        x=cat_col, y='Conteo', color='Tienda', markers=True,\n",
        "        title='Ventas por categoría — perfil por tienda',\n",
        "        labels={cat_col:'Categoría', 'Conteo':'Unidades', 'Tienda':''}\n",
        "    )\n",
        "    fig.update_traces(line=dict(width=2))\n",
        "    fig.update_layout(\n",
        "        width=width, height=height,\n",
        "        xaxis=dict(showline=True, linewidth=1, tickangle=-20,\n",
        "                   categoryorder='array', categoryarray=order),\n",
        "        yaxis=dict(showline=True, linewidth=1),\n",
        "        legend=dict(orientation='h', yanchor='bottom', y=-0.25, xanchor='center', x=0.5,\n",
        "                    itemclick='toggle', itemdoubleclick='toggleothers'),\n",
        "        margin=dict(l=40, r=20, t=60, b=70),\n",
        "        title={'x':0.5}\n",
        "    )\n",
        "    fig.show()\n"
      ],
      "metadata": {
        "id": "ho1yfPoOB1J2"
      },
      "execution_count": null,
      "outputs": []
    },
    {
      "cell_type": "markdown",
      "source": [
        "#3.1. Análisis de facturación\n",
        "\n"
      ],
      "metadata": {
        "id": "X62IW3KFUIYm"
      }
    },
    {
      "cell_type": "code",
      "source": [
        "# FACTURACIÓN POR TIENDA (tabla)\n",
        "precio_col = next(c for c in df.columns if 'precio' in c.lower())\n",
        "g_fact = group_sum(df, by='Tienda', value_col=precio_col)\n",
        "display(g_fact.round(0))\n"
      ],
      "metadata": {
        "id": "xykobSftV64I"
      },
      "execution_count": null,
      "outputs": []
    },
    {
      "cell_type": "code",
      "source": [
        "# FACTURACIÓN POR TIENDA (gráfico interactivo)\n",
        "plot_bar(g_fact, x='Tienda', y=precio_col,\n",
        "         titulo='Facturación por tienda',\n",
        "         color='Tienda', en_millones=True)\n"
      ],
      "metadata": {
        "id": "KDyr8E71V3m-"
      },
      "execution_count": null,
      "outputs": []
    },
    {
      "cell_type": "code",
      "source": [
        "import matplotlib.pyplot as plt\n",
        "from matplotlib.ticker import FuncFormatter\n",
        "\n",
        "precio_col = next(c for c in df.columns if 'precio' in c.lower())\n",
        "fact = df.groupby('Tienda')[precio_col].sum().sort_values(ascending=False)\n",
        "\n",
        "fig, ax = plt.subplots(figsize=(6,4))\n",
        "fact.plot(kind='bar', ax=ax)\n",
        "ax.set_title('Facturación por tienda (Matplotlib)')\n",
        "ax.set_xlabel('')\n",
        "ax.set_ylabel('Millones de COP')\n",
        "ax.ticklabel_format(style='plain', axis='y')\n",
        "ax.yaxis.set_major_formatter(FuncFormatter(lambda x, _: f'{x/1_000_000:,.1f}'.replace(',', '.')))\n",
        "ax.spines['top'].set_visible(False); ax.spines['right'].set_visible(False)\n",
        "plt.tight_layout(); plt.show()\n"
      ],
      "metadata": {
        "id": "iz_8AJtv-1QS"
      },
      "execution_count": null,
      "outputs": []
    },
    {
      "cell_type": "markdown",
      "source": [
        "# 3.2. Ventas por categoría"
      ],
      "metadata": {
        "id": "2V_vcAPzWZmR"
      }
    },
    {
      "cell_type": "code",
      "source": [
        "# VENTAS POR CATEGORÍA (tabla)\n",
        "cat_col = next(c for c in df.columns if 'categor' in c.lower())\n",
        "prod_col = next(c for c in df.columns if 'producto' in c.lower())\n",
        "\n",
        "g_cat = group_count(df, by=['Tienda', cat_col], count_col=prod_col)\n",
        "display(g_cat.head(10))\n",
        "\n",
        "pivot_cat = g_cat.pivot(index=cat_col, columns='Tienda', values='Conteo').fillna(0).astype(int)\n",
        "display(pivot_cat)\n"
      ],
      "metadata": {
        "id": "A34YupIuYhfF"
      },
      "execution_count": null,
      "outputs": []
    },
    {
      "cell_type": "code",
      "source": [
        "# 3.2 — Ventas por categoría: un solo gráfico de líneas (4 tiendas)\n",
        "plot_cat_lines(g_cat, cat_col, top_n=8)  # sube/baja top_n según lo “apretado” que veas\n"
      ],
      "metadata": {
        "id": "yZR6cOjXYSk1"
      },
      "execution_count": null,
      "outputs": []
    },
    {
      "cell_type": "markdown",
      "source": [
        "# 3.3. Calificación promedio de la tienda\n"
      ],
      "metadata": {
        "id": "Rq6tU_xSY3jk"
      }
    },
    {
      "cell_type": "code",
      "source": [
        "# CALIFICACIÓN PROMEDIO POR TIENDA (tabla)\n",
        "calif_col = next(c for c in df.columns if 'calificación' in c.lower())\n",
        "g_calif = group_mean(df, by='Tienda', value_col=calif_col)\n",
        "display(g_calif.round(2))\n"
      ],
      "metadata": {
        "id": "bh3jjjJwY5MU"
      },
      "execution_count": null,
      "outputs": []
    },
    {
      "cell_type": "code",
      "source": [
        "# CALIFICACIÓN PROMEDIO POR TIENDA (gráfico con rango fijo)\n",
        "import plotly.express as px\n",
        "\n",
        "fig = px.bar(g_calif,\n",
        "             x='Tienda', y=calif_col, color='Tienda',\n",
        "             title='Calificación promedio por tienda',\n",
        "             labels={'Tienda':'', calif_col:'Calificación promedio'})\n",
        "fig.update_traces(width=0.4)\n",
        "fig.update_layout(\n",
        "    width=680, height=420,\n",
        "    yaxis=dict(range=[0,5], dtick=1, showline=True, linewidth=1),\n",
        "    xaxis=dict(showline=True, linewidth=1),\n",
        "    margin=dict(l=40, r=20, t=50, b=40),\n",
        "    title={'x':0.5}\n",
        ")\n",
        "fig.show()\n",
        "\n"
      ],
      "metadata": {
        "id": "I0KkjPoTY88F"
      },
      "execution_count": null,
      "outputs": []
    },
    {
      "cell_type": "markdown",
      "source": [
        "# 3.4. Productos más y menos vendidos"
      ],
      "metadata": {
        "id": "DmNp1KPBZCm-"
      }
    },
    {
      "cell_type": "code",
      "source": [
        "# PRODUCTOS MÁS Y MENOS VENDIDOS — Tablas por tienda\n",
        "prod_col = next(c for c in df.columns if 'producto' in c.lower())\n",
        "g_prod = group_count(df, by=['Tienda', prod_col], count_col=prod_col)\n",
        "\n",
        "top5 = (g_prod.sort_values(['Tienda','Conteo'], ascending=[True, False])\n",
        "              .groupby('Tienda', group_keys=False).head(5))\n",
        "\n",
        "bottom5 = (g_prod.sort_values(['Tienda','Conteo'], ascending=[True, True])\n",
        "                 .groupby('Tienda', group_keys=False).head(5))\n",
        "\n",
        "print(\"🔝 TOP 5 productos por tienda\")\n",
        "display(top5)\n",
        "\n",
        "print(\"\\n🔻 BOTTOM 5 productos por tienda\")\n",
        "display(bottom5)\n"
      ],
      "metadata": {
        "id": "qoyjqijQZHfF"
      },
      "execution_count": null,
      "outputs": []
    },
    {
      "cell_type": "code",
      "source": [
        "# PRODUCTOS MÁS VENDIDOS — Gráfico (Top 5 por tienda)\n",
        "plot_bar_multi(\n",
        "    top5, x=prod_col, y='Conteo', color='Tienda',\n",
        "    titulo='Top 5 productos más vendidos por tienda',\n",
        "    modo='group', en_millones=False\n",
        ")\n"
      ],
      "metadata": {
        "id": "0Sw3sd4IZIGW"
      },
      "execution_count": null,
      "outputs": []
    },
    {
      "cell_type": "markdown",
      "source": [
        "# 3.5. Envío promedio por tienda"
      ],
      "metadata": {
        "id": "Fl0cGi3bZKqU"
      }
    },
    {
      "cell_type": "code",
      "source": [
        "# COSTO DE ENVÍO PROMEDIO POR TIENDA — tabla\n",
        "envio_col = next(c for c in df.columns if ('costo' in c.lower()) and ('env' in c.lower()))\n",
        "g_envio = group_mean(df, by='Tienda', value_col=envio_col)\n",
        "display(g_envio.round(0))\n"
      ],
      "metadata": {
        "id": "S2JeaCykZNy9"
      },
      "execution_count": null,
      "outputs": []
    },
    {
      "cell_type": "markdown",
      "source": [],
      "metadata": {
        "id": "xoPA83HvOkVQ"
      }
    },
    {
      "cell_type": "code",
      "source": [
        "# COSTO DE ENVÍO PROMEDIO POR TIENDA — gráfico\n",
        "plot_bar(g_envio, x='Tienda', y=envio_col,\n",
        "         titulo='Costo de envío promedio por tienda',\n",
        "         color='Tienda', en_millones=True)\n"
      ],
      "metadata": {
        "id": "0tSdCie9ZQlt"
      },
      "execution_count": null,
      "outputs": []
    },
    {
      "cell_type": "markdown",
      "source": [
        "## **4. KPIs comparativos y recomendación <a name=\"kpis\"></a>**\n",
        "Resumen de desempeño por tienda y **score** compuesto para priorizar la decisión de venta.\n"
      ],
      "metadata": {
        "id": "8MN2bz3IdN_Y"
      }
    },
    {
      "cell_type": "code",
      "source": [
        "# === RESUMEN DE KPIs + RECOMENDACIÓN FINAL ===\n",
        "import pandas as pd\n",
        "import numpy as np\n",
        "from IPython.display import Markdown, display\n",
        "\n",
        "precio_col = next(c for c in df.columns if 'precio' in c.lower())\n",
        "calif_col  = next(c for c in df.columns if 'calif'  in c.lower())\n",
        "envio_col  = next(c for c in df.columns if ('costo' in c.lower() and 'env' in c.lower()))\n",
        "prod_col   = next(c for c in df.columns if 'producto' in c.lower())\n",
        "\n",
        "kpis = pd.DataFrame({\n",
        "    'Facturación': df.groupby('Tienda')[precio_col].sum(),\n",
        "    'Calificación_prom': df.groupby('Tienda')[calif_col].mean(),\n",
        "    'Envío_prom': df.groupby('Tienda')[envio_col].mean(),\n",
        "    'Unidades': df.groupby('Tienda')[prod_col].count()\n",
        "})\n",
        "\n",
        "def minmax(s):\n",
        "    mn, mx = s.min(), s.max()\n",
        "    return (s - mn) / (mx - mn) if mx > mn else pd.Series(0.5, index=s.index)\n",
        "\n",
        "w_fact, w_calif, w_unid, w_env = 0.40, 0.30, 0.20, 0.10\n",
        "\n",
        "kpis['fact_norm']  = minmax(kpis['Facturación'])\n",
        "kpis['calif_norm'] = minmax(kpis['Calificación_prom'])\n",
        "kpis['unid_norm']  = minmax(kpis['Unidades'])\n",
        "kpis['env_norm']   = 1 - minmax(kpis['Envío_prom'])  # menor costo = mejor\n",
        "\n",
        "kpis['Score'] = (w_fact*kpis['fact_norm'] +\n",
        "                 w_calif*kpis['calif_norm'] +\n",
        "                 w_unid*kpis['unid_norm'] +\n",
        "                 w_env*kpis['env_norm'])\n",
        "\n",
        "kpis_orden = kpis.sort_values('Score', ascending=False).round(3)\n",
        "tienda_menos_ef = kpis_orden.index[-1]\n",
        "tienda_mejor    = kpis_orden.index[0]\n",
        "\n",
        "display(kpis_orden[['Facturación','Calificación_prom','Envío_prom','Unidades','Score']])\n",
        "\n",
        "row = kpis.loc[tienda_menos_ef]\n",
        "def qual(val, serie, alto_mejor=True):\n",
        "    mn, mx = serie.min(), serie.max()\n",
        "    if mx == mn: return \"similar al resto\"\n",
        "    terc1, terc2 = mn + (mx-mn)/3, mn + 2*(mx-mn)/3\n",
        "    if alto_mejor:\n",
        "        return \"alto\" if val >= terc2 else (\"bajo\" if val <= terc1 else \"medio\")\n",
        "    else:\n",
        "        return \"bajo (mejor)\" if val <= terc1 else (\"alto (peor)\" if val >= terc2 else \"medio\")\n",
        "\n",
        "md = f\"\"\"\n",
        "**Recomendación:** Vender **{tienda_menos_ef}**.\n",
        "\n",
        "**Resumen de {tienda_menos_ef}:**\n",
        "- Facturación: {qual(row['Facturación'], kpis['Facturación'], True)}\n",
        "- Unidades vendidas: {qual(row['Unidades'], kpis['Unidades'], True)}\n",
        "- Calificación promedio: {qual(row['Calificación_prom'], kpis['Calificación_prom'], True)}\n",
        "- Costo de envío promedio: {qual(row['Envío_prom'], kpis['Envío_prom'], False)}\n",
        "\n",
        "**Mejor desempeño general:** {tienda_mejor} (score más alto).\n",
        "\"\"\"\n",
        "display(Markdown(md))\n"
      ],
      "metadata": {
        "id": "KJXc0GlFdd0d"
      },
      "execution_count": null,
      "outputs": []
    },
    {
      "cell_type": "markdown",
      "source": [
        "## 5. Conclusiones\n",
        "\n",
        "- **Tienda recomendada para vender:** **Tienda 4**.\n",
        "- **Fundamentos (posición dentro de 4 tiendas, 1=mejor):**\n",
        "  - **Facturación:** 1.038.38 MM COP (**4/4**).\n",
        "  - **Unidades vendidas:** 2.358 (**4/4**).\n",
        "  - **Calificación promedio:** 4.00 (**3/4**).\n",
        "  - **Costo de envío promedio:** 0.02 MM COP (**1/4**, *menor es mejor*).\n",
        "- **Mejor desempeño general:** **Tienda 2** (score más alto).\n",
        "\n",
        "> **Nota:**\n",
        "\n",
        "  El *score* compuesto pondera\n",
        "  - Facturación (40%)\n",
        "  - Calificación (30%)\n",
        "  - Unidades (20%)\n",
        "  - Envío (10%).\n"
      ],
      "metadata": {
        "id": "uY-GZKEFg8le"
      }
    }
  ]
}